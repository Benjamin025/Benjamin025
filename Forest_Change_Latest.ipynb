{
  "cells": [
    {
      "cell_type": "markdown",
      "metadata": {
        "id": "view-in-github",
        "colab_type": "text"
      },
      "source": [
        "<a href=\"https://colab.research.google.com/github/Benjamin025/Benjamin025/blob/main/Forest_Change_Latest.ipynb\" target=\"_parent\"><img src=\"https://colab.research.google.com/assets/colab-badge.svg\" alt=\"Open In Colab\"/></a>"
      ]
    },
    {
      "cell_type": "markdown",
      "id": "bc0cd77f-1f88-4146-97e7-13fff2f613ea",
      "metadata": {
        "id": "bc0cd77f-1f88-4146-97e7-13fff2f613ea"
      },
      "source": [
        "Forest Change In the Aberdares and its impact on air quality based Nitrogen Dioxide Levels\n",
        "==="
      ]
    },
    {
      "cell_type": "markdown",
      "id": "1ca64a66-0f57-4a96-87eb-b3a5d8df474b",
      "metadata": {
        "id": "1ca64a66-0f57-4a96-87eb-b3a5d8df474b"
      },
      "source": [
        "Forests play a critical role in maintaining ecological balance and air quality. The Aberdare Forest which one of the main forests in Kenya is the focus of this analysis, the changes between 2018 and 2024 are examined in the subsequent sections. The analysis will also look at how the air quality in the perspective of atmospheric Nitrogen Dioxide levels in the area responds in relation to the recorded change."
      ]
    },
    {
      "cell_type": "markdown",
      "id": "b537b780-2ff1-4b1b-be0a-b3bd3a1b30bc",
      "metadata": {
        "id": "b537b780-2ff1-4b1b-be0a-b3bd3a1b30bc"
      },
      "source": [
        "The methodology used involves selecting Sentinel 2 Level 2A images at three year intervals from 2018 to 2024 i.e 2018 , 2021 and 2024. The images were taken around the same time which is between 17th February and 27th\n",
        "February when the cloud cover is minimal.\n",
        "The next step is to perform land cover classification to identify the forest extents, due to the complexity of collecting ground data to train models which may be time consuming especially for large\n",
        "datasets we used the sen2classification library in python. The library is designed for automatic land cover classification of Sentinel 2 images using machine learning. The library computes vegetation indices such as\n",
        "NDVI, BAEI, AWEI and NDTI for thresholding and uses either ALCC or gradient boosting. The output classes are as follows;\n",
        "            0 = no data\n",
        "            1 = water\n",
        "            2 = low vegetation\n",
        "            3 = high vegetation\n",
        "            4 = soil\n",
        "            5 = built up\n",
        "For more information visit the __[PyPi website](https://pypi.org/project/sen2classification/)__"
      ]
    },
    {
      "cell_type": "markdown",
      "id": "87657859-9c75-4e70-9176-6e83df9e5c62",
      "metadata": {
        "tags": [],
        "id": "87657859-9c75-4e70-9176-6e83df9e5c62"
      },
      "source": [
        "Due to space requirements of the algorithm running the algorithm in Dunia was not possible, it had to be done on the local computer environment. This __[notebook](https://github.com/ivybart/GMES_Forest_Change)__ shows how to use the sen2classification library is used to\n",
        "obtain the classified images. For those with enough space running the same code in the Dunia platform works too. Let's get started!!"
      ]
    },
    {
      "cell_type": "markdown",
      "id": "2d7403c1-871d-4f25-a8b3-99f8c2332e45",
      "metadata": {
        "id": "2d7403c1-871d-4f25-a8b3-99f8c2332e45"
      },
      "source": [
        "## Forest Change Analysis"
      ]
    },
    {
      "cell_type": "markdown",
      "id": "8bcc285d-de7a-4e8a-a9d1-eae78d254b6a",
      "metadata": {
        "id": "8bcc285d-de7a-4e8a-a9d1-eae78d254b6a"
      },
      "source": [
        "The 'rasterio' package in Python is designed for reading, writing, and manipulating raster data.\n",
        "The 'numPy' for Numerical Python widely used for scientific computing.\n",
        "The 'matplolib' is used for plotting static, animated, and interactive visualizations\n",
        "The 'os' module is operating system used to handle directory and file operations, such as reading, writing, and    modifying     file attributes, along with fetching environment information and managing processes.\n",
        "The 'ListedColormap' is a tool for creating colormaps from a list of specified colors.\n",
        "The 'matplotlib.patches' module in Python is a Matplotlib library used to provides classes for drawing various shapes and       patches on Matplotlib figures.\n"
      ]
    },
    {
      "cell_type": "code",
      "execution_count": null,
      "id": "8d52b41b-5de0-461b-8cfe-c2adce589cdd",
      "metadata": {
        "tags": [],
        "id": "8d52b41b-5de0-461b-8cfe-c2adce589cdd"
      },
      "outputs": [],
      "source": [
        "# Install the rasterstats package to be used in doing pixel count and area calculations\n",
        "!pip install rasterstats"
      ]
    },
    {
      "cell_type": "code",
      "execution_count": null,
      "id": "4aa04712-dc54-470e-a9ef-b8ed42208baa",
      "metadata": {
        "tags": [],
        "id": "4aa04712-dc54-470e-a9ef-b8ed42208baa"
      },
      "outputs": [],
      "source": [
        "# import required packages\n",
        "import rasterio\n",
        "import numpy as np\n",
        "import matplotlib.pyplot as plt\n",
        "import os\n",
        "from matplotlib.colors import ListedColormap\n",
        "from matplotlib.patches import Patch\n",
        "import geopandas as gpd\n",
        "from skimage.measure import label, regionprops\n",
        "from skimage.color import label2rgb"
      ]
    },
    {
      "cell_type": "markdown",
      "id": "cedded48-e59b-4c66-9856-5e6f2f3bd599",
      "metadata": {
        "id": "cedded48-e59b-4c66-9856-5e6f2f3bd599"
      },
      "source": [
        "Create a list of imaged irectories that holds the paths for input and output directories for each image to be used in the processing."
      ]
    },
    {
      "cell_type": "code",
      "execution_count": null,
      "id": "e65c2eac-2456-40a7-8480-bd63c9212154",
      "metadata": {
        "tags": [],
        "id": "e65c2eac-2456-40a7-8480-bd63c9212154"
      },
      "outputs": [],
      "source": [
        "#a list for the input and output directories\n",
        "image_directories = [\n",
        "    (\"data_raw/input\", \"data_raw/output\"),\n",
        "    (\"data_raw/input\", \"data_raw/output\"),\n",
        "    (\"data_raw/input\", \"data_raw/output\"),\n",
        "]\n"
      ]
    },
    {
      "cell_type": "code",
      "execution_count": null,
      "id": "dda11059-7b62-4145-9ce2-39f2efe9cc95",
      "metadata": {
        "tags": [],
        "id": "dda11059-7b62-4145-9ce2-39f2efe9cc95"
      },
      "outputs": [],
      "source": [
        "\n",
        "def create_forest_binary_image(input_tiff, output_tiff):\n",
        "    # Open the input TIFF file\n",
        "    with rasterio.open(input_tiff) as src:\n",
        "        # Read the data from the TIFF file\n",
        "        data = src.read(1)  # Read the first band (assuming it's a single-band raster)\n",
        "\n",
        "        # Create a binary image: 1 for forest (class ID 3), 0 for non-forest (all other class IDs)\n",
        "        binary_forest = np.where(data == 3, 1, 0)\n",
        "\n",
        "        # Define the metadata for the output file\n",
        "        meta = src.meta.copy()\n",
        "        meta.update(dtype=rasterio.uint8, count=1)\n",
        "\n",
        "        # Write the binary image to the output TIFF file\n",
        "        with rasterio.open(output_tiff, 'w', **meta) as dst:\n",
        "            dst.write(binary_forest.astype(rasterio.uint8), 1)\n",
        "\n",
        "    print(f\"Binary forest image saved to {output_tiff}\")\n",
        "\n",
        "def process_images(years, input_dir, output_dir):\n",
        "    for year in years:\n",
        "        input_tiff = os.path.join(input_dir, f'{year}_LULC.tif')\n",
        "        output_tiff = os.path.join(output_dir, f'{year}_binary_forest.tif')\n",
        "\n",
        "        if os.path.exists(input_tiff):\n",
        "            create_forest_binary_image(input_tiff, output_tiff)\n",
        "        else:\n",
        "            print(f\"Input file for year {year} not found: {input_tiff}\")\n",
        "\n",
        "# Define the years you want to process\n",
        "years = [2018, 2021, 2024]\n",
        "\n",
        "# Define the input directory containing the TIFF files\n",
        "input_dir = 'data_raw/input'\n",
        "\n",
        "# Define the output directory to save the binary images\n",
        "output_dir = 'data_raw/output'\n",
        "os.makedirs(output_dir, exist_ok=True)\n",
        "\n",
        "# Process the images\n",
        "process_images(years, input_dir, output_dir)"
      ]
    },
    {
      "cell_type": "markdown",
      "id": "7c3d8c7f-675d-4a3e-a071-f3d86940b326",
      "metadata": {
        "id": "7c3d8c7f-675d-4a3e-a071-f3d86940b326"
      },
      "source": [
        "The following code creates a binary image to classify the image into forest and non-forest,assigning forest as value 1 and all the other classes a value of 0."
      ]
    },
    {
      "cell_type": "code",
      "execution_count": null,
      "id": "897a4639-ff33-4add-9cc7-deb9d75e3fd9",
      "metadata": {
        "tags": [],
        "id": "897a4639-ff33-4add-9cc7-deb9d75e3fd9"
      },
      "outputs": [],
      "source": [
        "def display_binary_images(image_files, titles):\n",
        "    # Define the colors for forest (green) and non-forest (cream)\n",
        "    cmap = ListedColormap(['#FFFDD0', '#00FF00'])  # Cream and Green\n",
        "\n",
        "    # Create a subplot grid\n",
        "    fig, axs = plt.subplots(1, len(image_files), figsize=(15, 5))\n",
        "\n",
        "    for i, file_path in enumerate(image_files):\n",
        "        # Open the binary image file\n",
        "        with rasterio.open(file_path) as src:\n",
        "            # Read the data from the TIFF file\n",
        "            binary_image = src.read(1)\n",
        "\n",
        "        # Display the image\n",
        "        ax = axs[i]\n",
        "        im = ax.imshow(binary_image, cmap=cmap)\n",
        "        ax.set_title(titles[i])\n",
        "\n",
        "\n",
        "        # Add a legend for clarity\n",
        "        legend_labels = [Patch(facecolor='#FFFDD0', label='Non-Forest'),\n",
        "                         Patch(facecolor='#00FF00', label='Forest')]\n",
        "        ax.legend(handles=legend_labels, loc='upper left', bbox_to_anchor=(1, 1), title='Legend')\n",
        "\n",
        "    plt.suptitle('Forest (Green) and Non-Forest (Cream)')\n",
        "    plt.tight_layout()\n",
        "    plt.show()\n",
        "\n",
        "# Define the paths to your binary image files\n",
        "binary_image_files = [\n",
        "    'data_raw/output/2018_binary_forest.tif',\n",
        "    'data_raw/output/2021_binary_forest.tif',\n",
        "    'data_raw/output/2024_binary_forest.tif'\n",
        "]\n",
        "\n",
        "# Define titles for each image\n",
        "titles = ['2018 Forest Cover', '2021 Forest Cover', '2024 Forest Cover']\n",
        "\n",
        "# Display the images in a grid with titles and legends\n",
        "display_binary_images(binary_image_files, titles)"
      ]
    },
    {
      "cell_type": "markdown",
      "id": "7273a163-78f0-45a5-8627-a7b32a7c9386",
      "metadata": {
        "id": "7273a163-78f0-45a5-8627-a7b32a7c9386"
      },
      "source": [
        "Compute the difference of the images to determine forest loss and gain"
      ]
    },
    {
      "cell_type": "code",
      "execution_count": null,
      "id": "6b5dcd52-bfcf-4577-995e-7087033ab33d",
      "metadata": {
        "id": "6b5dcd52-bfcf-4577-995e-7087033ab33d"
      },
      "outputs": [],
      "source": [
        "def calculate_difference(image1_path, image2_path, output_path):\n",
        "    # Open the first image\n",
        "    with rasterio.open(image1_path) as src1:\n",
        "        image1 = src1.read(1)\n",
        "\n",
        "    # Open the second image\n",
        "    with rasterio.open(image2_path) as src2:\n",
        "        image2 = src2.read(1)\n",
        "\n",
        "    # Calculate the difference\n",
        "    difference = image2 - image1\n",
        "\n",
        "    # Save the difference image\n",
        "    meta = src1.meta.copy()\n",
        "    meta.update(dtype=rasterio.int8, count=1)\n",
        "\n",
        "    with rasterio.open(output_path, 'w', **meta) as dst:\n",
        "        dst.write(difference.astype(rasterio.int8), 1)\n",
        "\n",
        "    print(f\"Difference image saved to {output_path}\")\n",
        "    return difference\n",
        "\n",
        "def display_difference_images(image_files, titles):\n",
        "    # Define the colors for the difference image (negative: red, zero: cream, positive: green)\n",
        "    cmap = ListedColormap(['#FF0000', '#FFFDD0', '#00FF00'])  # Red, Cream, Green\n",
        "\n",
        "    # Create a subplot grid\n",
        "    fig, axs = plt.subplots(1, len(image_files), figsize=(15, 5))\n",
        "\n",
        "    for i, file_path in enumerate(image_files):\n",
        "        # Open the difference image file\n",
        "        with rasterio.open(file_path) as src:\n",
        "            # Read the data from the TIFF file\n",
        "            difference_image = src.read(1)\n",
        "\n",
        "        # Display the image\n",
        "        ax = axs[i]\n",
        "        im = ax.imshow(difference_image, cmap=cmap, vmin=-1, vmax=1)\n",
        "        ax.set_title(titles[i])\n",
        "        ax.axis('on')\n",
        "\n",
        "\n",
        "        # Add a legend for clarity\n",
        "        legend_labels = [Patch(facecolor='#FF0000', label='Loss'),\n",
        "                         Patch(facecolor='#FFFDD0', label='No Change'),\n",
        "                         Patch(facecolor='#00FF00', label='Gain')]\n",
        "        ax.legend(handles=legend_labels, loc='upper left', bbox_to_anchor=(1, 1), title='Legend')\n",
        "\n",
        "    plt.suptitle('Difference in Land Cover: Loss (Red), No Change (Cream), Gain (Green)')\n",
        "    plt.tight_layout()\n",
        "    plt.show()\n",
        "\n",
        "# Define the paths to your binary image files\n",
        "image_2018 = 'data_raw/output/2018_binary_forest.tif'\n",
        "image_2021 = 'data_raw/output/2021_binary_forest.tif'\n",
        "image_2024 = 'data_raw/output/2024_binary_forest.tif'\n",
        "\n",
        "# Define the output paths for the difference images\n",
        "diff_2021_2018 = 'data_raw/output/diff_2021_2018.tiff'\n",
        "diff_2024_2021 = 'data_raw/output/diff_2024_2021.tiff'\n",
        "\n",
        "# Calculate the differences\n",
        "difference_2021_2018 = calculate_difference(image_2018, image_2021, diff_2021_2018)\n",
        "difference_2024_2021 = calculate_difference(image_2021, image_2024, diff_2024_2021)\n",
        "\n",
        "# Define the paths to the difference image files and their titles\n",
        "difference_image_files = [diff_2021_2018, diff_2024_2021]\n",
        "titles = ['Difference 2021 - 2018', 'Difference 2024 - 2021']\n",
        "\n",
        "# Display the difference images\n",
        "display_difference_images(difference_image_files, titles)"
      ]
    },
    {
      "cell_type": "markdown",
      "id": "2b967daa-f28e-4412-b7a3-1d5f23b6706c",
      "metadata": {
        "id": "2b967daa-f28e-4412-b7a3-1d5f23b6706c"
      },
      "source": [
        "### Calculating the zonal statistics using the binary images"
      ]
    },
    {
      "cell_type": "code",
      "execution_count": null,
      "id": "92a66755-a2a6-42e4-ae14-782ad0f7a7f3",
      "metadata": {
        "id": "92a66755-a2a6-42e4-ae14-782ad0f7a7f3"
      },
      "outputs": [],
      "source": [
        "def calculate_pixel_statistics(difference_image, pixel_area_hectares):\n",
        "    loss_pixels = np.sum(difference_image == -1)  # Pixels representing forest loss\n",
        "    gain_pixels = np.sum(difference_image == 1)   # Pixels representing forest gain\n",
        "\n",
        "    loss_area_ha = loss_pixels * pixel_area_hectares\n",
        "    gain_area_ha = gain_pixels * pixel_area_hectares\n",
        "\n",
        "    return {\n",
        "        \"loss_pixels\": loss_pixels,\n",
        "        \"gain_pixels\": gain_pixels,\n",
        "        \"loss_area_ha\": loss_area_ha,\n",
        "        \"gain_area_ha\": gain_area_ha\n",
        "    }\n",
        "\n",
        "# Define the paths to your difference image files\n",
        "diff_2021_2018 = 'data_raw/output/diff_2021_2018.tiff'\n",
        "diff_2024_2021 = 'data_raw/output/diff_2024_2021.tiff'\n",
        "\n",
        "# Define the area of one pixel in hectares (assuming the pixel size is 10m x 10m)\n",
        "pixel_area_hectares = (10 * 10) / 10000  # 1 hectare = 10,000 square meters\n",
        "\n",
        "# Calculate and print pixel statistics for each difference image\n",
        "with rasterio.open(diff_2021_2018) as src:\n",
        "    difference_image_2021_2018 = src.read(1)\n",
        "stats_2021_2018 = calculate_pixel_statistics(difference_image_2021_2018, pixel_area_hectares)\n",
        "\n",
        "with rasterio.open(diff_2024_2021) as src:\n",
        "    difference_image_2024_2021 = src.read(1)\n",
        "stats_2024_2021 = calculate_pixel_statistics(difference_image_2024_2021, pixel_area_hectares)\n",
        "\n",
        "print(\"Pixel statistics for 2021 - 2018 difference image:\")\n",
        "print(stats_2021_2018)\n",
        "\n",
        "print(\"Pixel statistics for 2024 - 2021 difference image:\")\n",
        "print(stats_2024_2021)\n",
        "\n",
        "# Prepare data for the bar graph\n",
        "labels = ['2018-2021', '2021-2024']\n",
        "loss_areas = [stats_2021_2018[\"loss_area_ha\"], stats_2024_2021[\"loss_area_ha\"]]\n",
        "gain_areas = [stats_2021_2018[\"gain_area_ha\"], stats_2024_2021[\"gain_area_ha\"]]\n",
        "\n",
        "x = np.arange(len(labels))  # the label locations\n",
        "width = 0.35  # the width of the bars\n",
        "\n",
        "fig, ax = plt.subplots()\n",
        "bars1 = ax.bar(x - width/2, loss_areas, width, label='Loss (ha)', color='red')\n",
        "bars2 = ax.bar(x + width/2, gain_areas, width, label='Gain (ha)', color='green')\n",
        "\n",
        "# Add some text for labels, title and custom x-axis tick labels, etc.\n",
        "ax.set_xlabel('Time Period')\n",
        "ax.set_ylabel('Area (hectares)')\n",
        "ax.set_title('Forest Cover Change (Loss and Gain) by Time Period')\n",
        "ax.set_xticks(x)\n",
        "ax.set_xticklabels(labels)\n",
        "ax.legend()\n",
        "\n",
        "# Attach a text label above each bar in bars1 and bars2, displaying its height.\n",
        "def autolabel(bars):\n",
        "    \"\"\"Attach a text label above each bar in bars, displaying its height.\"\"\"\n",
        "    for bar in bars:\n",
        "        height = bar.get_height()\n",
        "        ax.annotate('{}'.format(round(height, 2)),\n",
        "                    xy=(bar.get_x() + bar.get_width() / 2, height),\n",
        "                    xytext=(0, 3),  # 3 points vertical offset\n",
        "                    textcoords=\"offset points\",\n",
        "                    ha='center', va='bottom')\n",
        "\n",
        "autolabel(bars1)\n",
        "autolabel(bars2)\n",
        "\n",
        "fig.tight_layout()\n",
        "\n",
        "plt.show()"
      ]
    },
    {
      "cell_type": "markdown",
      "id": "1196c2f2-7573-4ba6-93ef-d823be5b956e",
      "metadata": {
        "id": "1196c2f2-7573-4ba6-93ef-d823be5b956e"
      },
      "source": [
        "## Air Quality Analysis"
      ]
    },
    {
      "cell_type": "markdown",
      "id": "0b0aaa11-d498-4350-a51a-fd3e56794725",
      "metadata": {
        "id": "0b0aaa11-d498-4350-a51a-fd3e56794725"
      },
      "source": [
        "The air quality analysis was done by obtaining the images from Google Earth Engine , this is because the Sentinel 5P data comes in netcdf format which can be difficult to navigate. GEE also allows one to compute mean images from the image collection allowing one to get a complete image for their area of interest. The images were therefore prepared using GEE and uploaded into the dunia platform this __[Google Earth Engine Script](https://code.earthengine.google.com/9ca615dd59e03c498827a33021f66f3b)__ shows how you can also do the same for your area of interest.\n",
        "\n",
        "The NO2 data is given in mols per square meter"
      ]
    },
    {
      "cell_type": "code",
      "execution_count": null,
      "id": "9a2a5abe-ca1a-45f6-ba9e-ba82ea842823",
      "metadata": {
        "tags": [],
        "id": "9a2a5abe-ca1a-45f6-ba9e-ba82ea842823"
      },
      "outputs": [],
      "source": [
        "def plot_no2_images_horizontally(years, input_dir):\n",
        "    # Setup the plot - determine the number of subplots based on the number of years\n",
        "    fig, axs = plt.subplots(1, len(years), figsize=(15, 5))  # Adjust figsize as needed\n",
        "\n",
        "    for idx, year in enumerate(years):\n",
        "        input_tiff = os.path.join(input_dir, f'S5P_NO2_{year}.tif')\n",
        "\n",
        "        if os.path.exists(input_tiff):\n",
        "            try:\n",
        "                # Open the TIFF file using rasterio\n",
        "                with rasterio.open(input_tiff) as src:\n",
        "                    # Read the data from the first band\n",
        "                    data = src.read(1)\n",
        "\n",
        "                    # Plot the image in the respective subplot\n",
        "                    ax = axs[idx] if len(years) > 1 else axs\n",
        "                    im = ax.imshow(data, cmap='viridis')\n",
        "                    ax.set_title(f'{year} NO2 Image')\n",
        "                    ax.set_xlabel('Pixel X Coordinates')\n",
        "                    ax.set_ylabel('Pixel Y Coordinates')\n",
        "                    ax.set_axis_off()  # Turn off axis numbering and ticks if preferred\n",
        "\n",
        "            except Exception as e:\n",
        "                print(f\"Failed to read or plot {input_tiff}: {e}\")\n",
        "        else:\n",
        "            print(f\"Input file for year {year} not found: {input_tiff}\")\n",
        "\n",
        "    # Add a colorbar to the figure\n",
        "    cbar_ax = fig.add_axes([0.92, 0.15, 0.02, 0.7])  # x, y, width, height\n",
        "    fig.colorbar(im, cax=cbar_ax)\n",
        "    plt.tight_layout(rect=[0, 0, 0.9, 1])  # Adjust the right margin to accommodate the colorbar\n",
        "\n",
        "    plt.show()\n",
        "\n",
        "# Define the years you want to process\n",
        "years = [2018, 2021, 2024]\n",
        "\n",
        "# Define the input directory containing the TIFF files\n",
        "input_dir = 'data_raw/input'\n",
        "\n",
        "# Plot the NO2 images horizontally\n",
        "plot_no2_images_horizontally(years, input_dir)\n"
      ]
    },
    {
      "cell_type": "code",
      "execution_count": null,
      "id": "36918598-97c7-4ea5-85d9-982535eb7318",
      "metadata": {
        "tags": [],
        "id": "36918598-97c7-4ea5-85d9-982535eb7318"
      },
      "outputs": [],
      "source": [
        "\n",
        "def plot_difference(input_dir, years):\n",
        "    data_arrays = []\n",
        "    titles = []\n",
        "\n",
        "    # Load and store data for specified years\n",
        "    for year in years:\n",
        "        input_tiff = os.path.join(input_dir, f'S5P_NO2_{year}.tif')\n",
        "\n",
        "        if os.path.exists(input_tiff):\n",
        "            with rasterio.open(input_tiff) as src:\n",
        "                # Append data to the list after reading from the file\n",
        "                data_arrays.append(src.read(1))\n",
        "                titles.append(f'{year} NO2 Image')\n",
        "        else:\n",
        "            print(f\"Input file for year {year} not found: {input_tiff}\")\n",
        "            return  # Exit if any file is missing\n",
        "\n",
        "    # Compute differences between consecutive years\n",
        "    differences = [data_arrays[i+1] - data_arrays[i] for i in range(len(data_arrays)-1)]\n",
        "    titles_diff = [f'Difference {years[i+1]} - {years[i]}' for i in range(len(years)-1)]\n",
        "\n",
        "    # Plotting\n",
        "    fig, axs = plt.subplots(1, len(years) + len(differences), figsize=(20, 6))\n",
        "\n",
        "    # Plot original images\n",
        "    for idx, data in enumerate(data_arrays):\n",
        "        ax = axs[idx]\n",
        "        im = ax.imshow(data, cmap='viridis', vmin=np.percentile(data, 5), vmax=np.percentile(data, 95))\n",
        "        ax.set_title(titles[idx])\n",
        "        ax.set_axis_off()\n",
        "\n",
        "    # Plot differences\n",
        "    for idx, diff in enumerate(differences):\n",
        "        ax = axs[len(years) + idx]\n",
        "        im_diff = ax.imshow(diff, cmap='coolwarm', vmin=np.percentile(diff, 5), vmax=np.percentile(diff, 95))\n",
        "        ax.set_title(titles_diff[idx])\n",
        "        ax.set_axis_off()\n",
        "\n",
        "    # Add colorbars\n",
        "    fig.colorbar(im, ax=axs[:len(years)], orientation='vertical', fraction=0.02, pad=0.04)\n",
        "    fig.colorbar(im_diff, ax=axs[len(years):], orientation='vertical', fraction=0.02, pad=0.04)\n",
        "\n",
        "    plt.tight_layout()\n",
        "    plt.show()\n",
        "\n",
        "# Define the years you want to analyze\n",
        "years = [2018, 2021, 2024]\n",
        "\n",
        "# Define the input directory containing the TIFF files\n",
        "input_dir = 'data_raw/input'\n",
        "\n",
        "# Perform the analysis and plot the differences\n",
        "plot_difference(input_dir, years)\n"
      ]
    },
    {
      "cell_type": "code",
      "execution_count": null,
      "id": "67937076-5a63-43ac-80ac-92c2679a1997",
      "metadata": {
        "tags": [],
        "id": "67937076-5a63-43ac-80ac-92c2679a1997"
      },
      "outputs": [],
      "source": [
        "\n",
        "\n",
        "def calculate_and_plot_difference(input_dir, years):\n",
        "    # Check and store data for each year\n",
        "    images = {}\n",
        "    for year in years:\n",
        "        input_tiff = os.path.join(input_dir, f'S5P_NO2_{year}.tif')\n",
        "        if os.path.exists(input_tiff):\n",
        "            with rasterio.open(input_tiff) as src:\n",
        "                images[year] = src.read(1)\n",
        "        else:\n",
        "            print(f\"Input file for year {year} not found: {input_tiff}\")\n",
        "            return  # Exit if any file is missing\n",
        "\n",
        "    # Compute and plot differences between consecutive years\n",
        "    for i in range(len(years) - 1):\n",
        "        year1, year2 = years[i], years[i+1]\n",
        "        if year1 in images and year2 in images:\n",
        "            difference = images[year2] - images[year1]\n",
        "\n",
        "            # Plotting the difference\n",
        "            plt.figure(figsize=(8, 6))\n",
        "            plt.imshow(difference, cmap='coolwarm', vmin=np.percentile(difference, 5), vmax=np.percentile(difference, 95))\n",
        "            plt.colorbar(label='Difference in NO2 Concentration')\n",
        "            plt.title(f'Difference in NO2 Concentration: {year2} - {year1}')\n",
        "            plt.xlabel('Pixel X Coordinates')\n",
        "            plt.ylabel('Pixel Y Coordinates')\n",
        "            plt.show()\n",
        "\n",
        "# Define the years you want to analyze\n",
        "years = [2018, 2021, 2024]\n",
        "\n",
        "# Define the input directory containing the TIFF files\n",
        "input_dir = 'data_raw/input'\n",
        "\n",
        "# Calculate the differences and plot them\n",
        "calculate_and_plot_difference(input_dir, years)\n"
      ]
    },
    {
      "cell_type": "code",
      "execution_count": null,
      "id": "d8e303fa-ee4f-4e59-b049-ce594e022923",
      "metadata": {
        "tags": [],
        "id": "d8e303fa-ee4f-4e59-b049-ce594e022923"
      },
      "outputs": [],
      "source": [
        "# Define the paths to your raster files\n",
        "raster1_path = 'data_raw/input/S5P_NO2_2018.tif'\n",
        "raster2_path = 'data_raw/input/S5P_NO2_2021.tif'\n",
        "\n",
        "# Open the first raster file\n",
        "with rasterio.open(raster1_path) as src1:\n",
        "    raster1 = src1.read(1)  # Read the first band\n",
        "\n",
        "# Open the second raster file\n",
        "with rasterio.open(raster2_path) as src2:\n",
        "    raster2 = src2.read(1)  # Read the first band\n",
        "\n",
        "# Compute the difference\n",
        "difference1 = raster2 - raster1\n",
        "\n",
        "# Print the result (or you could save it to a new file, if needed)\n",
        "print(difference1)"
      ]
    },
    {
      "cell_type": "code",
      "execution_count": null,
      "id": "a83b87f2-a703-411d-ba8b-80b66942075e",
      "metadata": {
        "tags": [],
        "id": "a83b87f2-a703-411d-ba8b-80b66942075e"
      },
      "outputs": [],
      "source": [
        " # Plotting the difference\n",
        "plt.figure(figsize=(8, 6))\n",
        "plt.imshow(difference1, cmap='coolwarm', vmin=np.percentile(difference1, 5), vmax=np.percentile(difference1, 95))\n",
        "plt.colorbar(label='Difference in NO2 Concentration')\n",
        "plt.title(f'Difference in NO2 Concentration: {2021} - {2018}')\n",
        "plt.xlabel('Pixel X Coordinates')\n",
        "plt.ylabel('Pixel Y Coordinates')\n",
        "plt.show()\n"
      ]
    },
    {
      "cell_type": "code",
      "execution_count": null,
      "id": "f47f9ba2-5566-48fc-99bb-848fc401082d",
      "metadata": {
        "id": "f47f9ba2-5566-48fc-99bb-848fc401082d"
      },
      "outputs": [],
      "source": [
        "def calculate_and_plot_difference(image1_path, image2_path):\n",
        "    # Load the first image\n",
        "    with rasterio.open(image1_path) as src1:\n",
        "        image1 = src1.read(1)\n",
        "\n",
        "    # Load the second image\n",
        "    with rasterio.open(image2_path) as src2:\n",
        "        image2 = src2.read(1)\n",
        "\n",
        "    # Calculate the difference\n",
        "    difference = image2 - image1\n",
        "\n",
        "    # Plotting the difference\n",
        "    plt.figure(figsize=(8, 6))\n",
        "    im = plt.imshow(difference, cmap='coolwarm', vmin=np.percentile(difference, 5), vmax=np.percentile(difference, 95))\n",
        "    plt.colorbar(im, label='Difference in NO2 Concentration')\n",
        "    plt.title('Difference in NO2 Concentration')\n",
        "    plt.xlabel('Pixel X Coordinates')\n",
        "    plt.ylabel('Pixel Y Coordinates')\n",
        "    plt.show()\n",
        "\n",
        "# Define the paths to the NO2 image files\n",
        "image1_path = 'data_raw/input/S5P_NO2_2018.tif'\n",
        "image2_path = 'data_raw/input/S5P_NO2_2021.tif'\n",
        "\n",
        "# Calculate the differences and plot them\n",
        "calculate_and_plot_difference(image1_path, image2_path)\n"
      ]
    },
    {
      "cell_type": "code",
      "execution_count": null,
      "id": "088f464f-4460-46ea-949a-b7aae2732d2a",
      "metadata": {
        "id": "088f464f-4460-46ea-949a-b7aae2732d2a"
      },
      "outputs": [],
      "source": []
    }
  ],
  "metadata": {
    "kernelspec": {
      "display_name": "Python 3 (ipykernel)",
      "language": "python",
      "name": "python3"
    },
    "language_info": {
      "codemirror_mode": {
        "name": "ipython",
        "version": 3
      },
      "file_extension": ".py",
      "mimetype": "text/x-python",
      "name": "python",
      "nbconvert_exporter": "python",
      "pygments_lexer": "ipython3",
      "version": "3.8.10"
    },
    "colab": {
      "provenance": [],
      "include_colab_link": true
    }
  },
  "nbformat": 4,
  "nbformat_minor": 5
}